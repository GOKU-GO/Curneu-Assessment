{
 "metadata": {
  "language_info": {
   "codemirror_mode": {
    "name": "ipython",
    "version": 3
   },
   "file_extension": ".py",
   "mimetype": "text/x-python",
   "name": "python",
   "nbconvert_exporter": "python",
   "pygments_lexer": "ipython3",
   "version": "3.8.1-final"
  },
  "orig_nbformat": 2,
  "kernelspec": {
   "name": "python3",
   "display_name": "Python 3.8.1 64-bit",
   "metadata": {
    "interpreter": {
     "hash": "51221c453679e867fce6e93a9c780f837dfb0695cac4419ee9e6fe405c15942e"
    }
   }
  }
 },
 "nbformat": 4,
 "nbformat_minor": 2,
 "cells": [
  {
   "cell_type": "code",
   "execution_count": 24,
   "metadata": {},
   "outputs": [],
   "source": [
    "import numpy as np\n",
    "import pandas as pd\n",
    "import matplotlib.pyplot as plt\n",
    "import seaborn as sns\n",
    "import statistics\n",
    "\n",
    "from IPython.core.interactiveshell import InteractiveShell\n",
    "InteractiveShell.ast_node_interactivity = \"all\""
   ]
  },
  {
   "cell_type": "code",
   "execution_count": 4,
   "metadata": {},
   "outputs": [
    {
     "output_type": "execute_result",
     "data": {
      "text/plain": [
       "       Country  Income Classification  Severe Wasting    Wasting  Overweight  \\\n",
       "0  AFGHANISTAN                    0.0        3.033333  10.350000    5.125000   \n",
       "1      ALBANIA                    2.0        4.075000   7.760000   20.800000   \n",
       "2      ALGERIA                    2.0        2.733333   5.942857   12.833333   \n",
       "3       ANGOLA                    1.0        2.400000   6.933333    2.550000   \n",
       "4    ARGENTINA                    2.0        0.200000   2.150000   11.125000   \n",
       "\n",
       "    Stunting  Underweight  U5 Population ('000s)  \n",
       "0  47.775000    30.375000            4918.561500  \n",
       "1  24.160000     7.700000             232.859800  \n",
       "2  19.571429     7.342857            3565.213143  \n",
       "3  42.633333    23.600000            3980.054000  \n",
       "4  10.025000     2.600000            3613.651750  "
      ],
      "text/html": "<div>\n<style scoped>\n    .dataframe tbody tr th:only-of-type {\n        vertical-align: middle;\n    }\n\n    .dataframe tbody tr th {\n        vertical-align: top;\n    }\n\n    .dataframe thead th {\n        text-align: right;\n    }\n</style>\n<table border=\"1\" class=\"dataframe\">\n  <thead>\n    <tr style=\"text-align: right;\">\n      <th></th>\n      <th>Country</th>\n      <th>Income Classification</th>\n      <th>Severe Wasting</th>\n      <th>Wasting</th>\n      <th>Overweight</th>\n      <th>Stunting</th>\n      <th>Underweight</th>\n      <th>U5 Population ('000s)</th>\n    </tr>\n  </thead>\n  <tbody>\n    <tr>\n      <th>0</th>\n      <td>AFGHANISTAN</td>\n      <td>0.0</td>\n      <td>3.033333</td>\n      <td>10.350000</td>\n      <td>5.125000</td>\n      <td>47.775000</td>\n      <td>30.375000</td>\n      <td>4918.561500</td>\n    </tr>\n    <tr>\n      <th>1</th>\n      <td>ALBANIA</td>\n      <td>2.0</td>\n      <td>4.075000</td>\n      <td>7.760000</td>\n      <td>20.800000</td>\n      <td>24.160000</td>\n      <td>7.700000</td>\n      <td>232.859800</td>\n    </tr>\n    <tr>\n      <th>2</th>\n      <td>ALGERIA</td>\n      <td>2.0</td>\n      <td>2.733333</td>\n      <td>5.942857</td>\n      <td>12.833333</td>\n      <td>19.571429</td>\n      <td>7.342857</td>\n      <td>3565.213143</td>\n    </tr>\n    <tr>\n      <th>3</th>\n      <td>ANGOLA</td>\n      <td>1.0</td>\n      <td>2.400000</td>\n      <td>6.933333</td>\n      <td>2.550000</td>\n      <td>42.633333</td>\n      <td>23.600000</td>\n      <td>3980.054000</td>\n    </tr>\n    <tr>\n      <th>4</th>\n      <td>ARGENTINA</td>\n      <td>2.0</td>\n      <td>0.200000</td>\n      <td>2.150000</td>\n      <td>11.125000</td>\n      <td>10.025000</td>\n      <td>2.600000</td>\n      <td>3613.651750</td>\n    </tr>\n  </tbody>\n</table>\n</div>"
     },
     "metadata": {},
     "execution_count": 4
    }
   ],
   "source": [
    "datae = pd.read_csv('country-wise-average.csv')\n",
    "datae.head()"
   ]
  },
  {
   "source": [
    "So now we get into the basic EDA without using any external libraries"
   ],
   "cell_type": "markdown",
   "metadata": {}
  },
  {
   "source": [
    "# EDA"
   ],
   "cell_type": "markdown",
   "metadata": {}
  },
  {
   "source": [
    "Separating categories and numerical variables in the dataset"
   ],
   "cell_type": "markdown",
   "metadata": {}
  },
  {
   "cell_type": "code",
   "execution_count": 17,
   "metadata": {},
   "outputs": [
    {
     "output_type": "stream",
     "name": "stdout",
     "text": [
      "the no of categoricals  1\nthe no of numericals 7\n"
     ]
    }
   ],
   "source": [
    "categori = [var for var in datae.columns if datae[var].dtype == 'O']\n",
    "print('the no of categoricals ',len(categori))\n",
    "\n",
    "numerical = [var for var in datae.columns if datae[var].dtype != 'O']\n",
    "print('the no of numericals', len(numerical))"
   ]
  },
  {
   "cell_type": "code",
   "execution_count": 7,
   "metadata": {},
   "outputs": [
    {
     "output_type": "execute_result",
     "data": {
      "text/plain": [
       "       Income Classification  Severe Wasting     Wasting  Overweight  \\\n",
       "count             152.000000      140.000000  150.000000  149.000000   \n",
       "mean                1.427632        2.168650    6.599257    7.201638   \n",
       "std                 0.967019        1.708939    4.481723    4.649144   \n",
       "min                 0.000000        0.000000    0.000000    0.962500   \n",
       "25%                 1.000000        0.900000    3.262500    3.850000   \n",
       "50%                 1.000000        1.872500    5.710714    6.300000   \n",
       "75%                 2.000000        2.822727    8.740476    9.080000   \n",
       "max                 3.000000       11.400000   23.650000   26.500000   \n",
       "\n",
       "         Stunting  Underweight  U5 Population ('000s)  \n",
       "count  151.000000   150.000000             152.000000  \n",
       "mean    25.814728    13.503047            4042.927052  \n",
       "std     14.686807    10.895839           13164.191927  \n",
       "min      1.000000     0.100000               1.000000  \n",
       "25%     13.485000     4.305000             241.765813  \n",
       "50%     24.160000    10.380000             981.233486  \n",
       "75%     36.564935    19.496875            3002.433080  \n",
       "max     57.600000    46.266667          123014.491000  "
      ],
      "text/html": "<div>\n<style scoped>\n    .dataframe tbody tr th:only-of-type {\n        vertical-align: middle;\n    }\n\n    .dataframe tbody tr th {\n        vertical-align: top;\n    }\n\n    .dataframe thead th {\n        text-align: right;\n    }\n</style>\n<table border=\"1\" class=\"dataframe\">\n  <thead>\n    <tr style=\"text-align: right;\">\n      <th></th>\n      <th>Income Classification</th>\n      <th>Severe Wasting</th>\n      <th>Wasting</th>\n      <th>Overweight</th>\n      <th>Stunting</th>\n      <th>Underweight</th>\n      <th>U5 Population ('000s)</th>\n    </tr>\n  </thead>\n  <tbody>\n    <tr>\n      <th>count</th>\n      <td>152.000000</td>\n      <td>140.000000</td>\n      <td>150.000000</td>\n      <td>149.000000</td>\n      <td>151.000000</td>\n      <td>150.000000</td>\n      <td>152.000000</td>\n    </tr>\n    <tr>\n      <th>mean</th>\n      <td>1.427632</td>\n      <td>2.168650</td>\n      <td>6.599257</td>\n      <td>7.201638</td>\n      <td>25.814728</td>\n      <td>13.503047</td>\n      <td>4042.927052</td>\n    </tr>\n    <tr>\n      <th>std</th>\n      <td>0.967019</td>\n      <td>1.708939</td>\n      <td>4.481723</td>\n      <td>4.649144</td>\n      <td>14.686807</td>\n      <td>10.895839</td>\n      <td>13164.191927</td>\n    </tr>\n    <tr>\n      <th>min</th>\n      <td>0.000000</td>\n      <td>0.000000</td>\n      <td>0.000000</td>\n      <td>0.962500</td>\n      <td>1.000000</td>\n      <td>0.100000</td>\n      <td>1.000000</td>\n    </tr>\n    <tr>\n      <th>25%</th>\n      <td>1.000000</td>\n      <td>0.900000</td>\n      <td>3.262500</td>\n      <td>3.850000</td>\n      <td>13.485000</td>\n      <td>4.305000</td>\n      <td>241.765813</td>\n    </tr>\n    <tr>\n      <th>50%</th>\n      <td>1.000000</td>\n      <td>1.872500</td>\n      <td>5.710714</td>\n      <td>6.300000</td>\n      <td>24.160000</td>\n      <td>10.380000</td>\n      <td>981.233486</td>\n    </tr>\n    <tr>\n      <th>75%</th>\n      <td>2.000000</td>\n      <td>2.822727</td>\n      <td>8.740476</td>\n      <td>9.080000</td>\n      <td>36.564935</td>\n      <td>19.496875</td>\n      <td>3002.433080</td>\n    </tr>\n    <tr>\n      <th>max</th>\n      <td>3.000000</td>\n      <td>11.400000</td>\n      <td>23.650000</td>\n      <td>26.500000</td>\n      <td>57.600000</td>\n      <td>46.266667</td>\n      <td>123014.491000</td>\n    </tr>\n  </tbody>\n</table>\n</div>"
     },
     "metadata": {},
     "execution_count": 7
    }
   ],
   "source": [
    "datae.describe()"
   ]
  },
  {
   "cell_type": "code",
   "execution_count": 23,
   "metadata": {},
   "outputs": [
    {
     "output_type": "stream",
     "name": "stdout",
     "text": [
      "Income Classification -- 1.4276315789473684\n"
     ]
    },
    {
     "output_type": "error",
     "ename": "AttributeError",
     "evalue": "'Series' object has no attribute 'pstdev'",
     "traceback": [
      "\u001b[1;31m---------------------------------------------------------------------------\u001b[0m",
      "\u001b[1;31mAttributeError\u001b[0m                            Traceback (most recent call last)",
      "\u001b[1;32m<ipython-input-23-e01c0d0d6ec2>\u001b[0m in \u001b[0;36m<module>\u001b[1;34m\u001b[0m\n\u001b[0;32m      1\u001b[0m \u001b[1;32mfor\u001b[0m \u001b[0mcol\u001b[0m \u001b[1;32min\u001b[0m \u001b[0mdatae\u001b[0m\u001b[1;33m[\u001b[0m\u001b[0mnumerical\u001b[0m\u001b[1;33m]\u001b[0m\u001b[1;33m.\u001b[0m\u001b[0mcolumns\u001b[0m\u001b[1;33m:\u001b[0m\u001b[1;33m\u001b[0m\u001b[1;33m\u001b[0m\u001b[0m\n\u001b[0;32m      2\u001b[0m     \u001b[0mprint\u001b[0m\u001b[1;33m(\u001b[0m\u001b[0mcol\u001b[0m\u001b[1;33m,\u001b[0m\u001b[1;34m'--'\u001b[0m\u001b[1;33m,\u001b[0m \u001b[0mdatae\u001b[0m\u001b[1;33m[\u001b[0m\u001b[0mcol\u001b[0m\u001b[1;33m]\u001b[0m\u001b[1;33m.\u001b[0m\u001b[0mmean\u001b[0m\u001b[1;33m(\u001b[0m\u001b[1;33m)\u001b[0m\u001b[1;33m)\u001b[0m\u001b[1;33m\u001b[0m\u001b[1;33m\u001b[0m\u001b[0m\n\u001b[1;32m----> 3\u001b[1;33m     \u001b[0mprint\u001b[0m\u001b[1;33m(\u001b[0m\u001b[0mcol\u001b[0m\u001b[1;33m,\u001b[0m\u001b[1;34m'--'\u001b[0m\u001b[1;33m,\u001b[0m \u001b[0mdatae\u001b[0m\u001b[1;33m[\u001b[0m\u001b[0mcol\u001b[0m\u001b[1;33m]\u001b[0m\u001b[1;33m.\u001b[0m\u001b[0mpstdev\u001b[0m\u001b[1;33m(\u001b[0m\u001b[1;33m)\u001b[0m\u001b[1;33m)\u001b[0m\u001b[1;33m\u001b[0m\u001b[1;33m\u001b[0m\u001b[0m\n\u001b[0m",
      "\u001b[1;32m~\\AppData\\Local\\Programs\\Python\\Python38\\lib\\site-packages\\pandas\\core\\generic.py\u001b[0m in \u001b[0;36m__getattr__\u001b[1;34m(self, name)\u001b[0m\n\u001b[0;32m   5139\u001b[0m             \u001b[1;32mif\u001b[0m \u001b[0mself\u001b[0m\u001b[1;33m.\u001b[0m\u001b[0m_info_axis\u001b[0m\u001b[1;33m.\u001b[0m\u001b[0m_can_hold_identifiers_and_holds_name\u001b[0m\u001b[1;33m(\u001b[0m\u001b[0mname\u001b[0m\u001b[1;33m)\u001b[0m\u001b[1;33m:\u001b[0m\u001b[1;33m\u001b[0m\u001b[1;33m\u001b[0m\u001b[0m\n\u001b[0;32m   5140\u001b[0m                 \u001b[1;32mreturn\u001b[0m \u001b[0mself\u001b[0m\u001b[1;33m[\u001b[0m\u001b[0mname\u001b[0m\u001b[1;33m]\u001b[0m\u001b[1;33m\u001b[0m\u001b[1;33m\u001b[0m\u001b[0m\n\u001b[1;32m-> 5141\u001b[1;33m             \u001b[1;32mreturn\u001b[0m \u001b[0mobject\u001b[0m\u001b[1;33m.\u001b[0m\u001b[0m__getattribute__\u001b[0m\u001b[1;33m(\u001b[0m\u001b[0mself\u001b[0m\u001b[1;33m,\u001b[0m \u001b[0mname\u001b[0m\u001b[1;33m)\u001b[0m\u001b[1;33m\u001b[0m\u001b[1;33m\u001b[0m\u001b[0m\n\u001b[0m\u001b[0;32m   5142\u001b[0m \u001b[1;33m\u001b[0m\u001b[0m\n\u001b[0;32m   5143\u001b[0m     \u001b[1;32mdef\u001b[0m \u001b[0m__setattr__\u001b[0m\u001b[1;33m(\u001b[0m\u001b[0mself\u001b[0m\u001b[1;33m,\u001b[0m \u001b[0mname\u001b[0m\u001b[1;33m:\u001b[0m \u001b[0mstr\u001b[0m\u001b[1;33m,\u001b[0m \u001b[0mvalue\u001b[0m\u001b[1;33m)\u001b[0m \u001b[1;33m->\u001b[0m \u001b[1;32mNone\u001b[0m\u001b[1;33m:\u001b[0m\u001b[1;33m\u001b[0m\u001b[1;33m\u001b[0m\u001b[0m\n",
      "\u001b[1;31mAttributeError\u001b[0m: 'Series' object has no attribute 'pstdev'"
     ]
    }
   ],
   "source": [
    "for col in datae[numerical].columns:\n",
    "    print(col,'--', datae[col].mean())\n",
    "    print(col,'--', datae[col].pstdev())\n"
   ]
  },
  {
   "cell_type": "code",
   "execution_count": 19,
   "metadata": {},
   "outputs": [
    {
     "output_type": "execute_result",
     "data": {
      "text/plain": [
       "     Income Classification  Severe Wasting    Wasting  Overweight   Stunting  \\\n",
       "0                      0.0        3.033333  10.350000    5.125000  47.775000   \n",
       "1                      2.0        4.075000   7.760000   20.800000  24.160000   \n",
       "2                      2.0        2.733333   5.942857   12.833333  19.571429   \n",
       "3                      1.0        2.400000   6.933333    2.550000  42.633333   \n",
       "4                      2.0        0.200000   2.150000   11.125000  10.025000   \n",
       "..                     ...             ...        ...         ...        ...   \n",
       "147                    2.0             NaN   4.333333    5.409524  16.957143   \n",
       "148                    1.0        2.331250   8.661905    3.317647  34.922727   \n",
       "149                    0.0        5.300000  15.242857    4.842857  51.900000   \n",
       "150                    1.0        2.042857   5.542857    7.228571  48.137500   \n",
       "151                    1.0        1.388889   4.166667    5.788889  30.455556   \n",
       "\n",
       "     Underweight  U5 Population ('000s)  \n",
       "0      30.375000            4918.561500  \n",
       "1       7.700000             232.859800  \n",
       "2       7.342857            3565.213143  \n",
       "3      23.600000            3980.054000  \n",
       "4       2.600000            3613.651750  \n",
       "..           ...                    ...  \n",
       "147     4.242857            2787.800095  \n",
       "148    22.918182            7507.220273  \n",
       "149    37.785714            3269.476000  \n",
       "150    17.885714            2083.494500  \n",
       "151    10.710000            1912.450400  \n",
       "\n",
       "[152 rows x 7 columns]"
      ],
      "text/html": "<div>\n<style scoped>\n    .dataframe tbody tr th:only-of-type {\n        vertical-align: middle;\n    }\n\n    .dataframe tbody tr th {\n        vertical-align: top;\n    }\n\n    .dataframe thead th {\n        text-align: right;\n    }\n</style>\n<table border=\"1\" class=\"dataframe\">\n  <thead>\n    <tr style=\"text-align: right;\">\n      <th></th>\n      <th>Income Classification</th>\n      <th>Severe Wasting</th>\n      <th>Wasting</th>\n      <th>Overweight</th>\n      <th>Stunting</th>\n      <th>Underweight</th>\n      <th>U5 Population ('000s)</th>\n    </tr>\n  </thead>\n  <tbody>\n    <tr>\n      <th>0</th>\n      <td>0.0</td>\n      <td>3.033333</td>\n      <td>10.350000</td>\n      <td>5.125000</td>\n      <td>47.775000</td>\n      <td>30.375000</td>\n      <td>4918.561500</td>\n    </tr>\n    <tr>\n      <th>1</th>\n      <td>2.0</td>\n      <td>4.075000</td>\n      <td>7.760000</td>\n      <td>20.800000</td>\n      <td>24.160000</td>\n      <td>7.700000</td>\n      <td>232.859800</td>\n    </tr>\n    <tr>\n      <th>2</th>\n      <td>2.0</td>\n      <td>2.733333</td>\n      <td>5.942857</td>\n      <td>12.833333</td>\n      <td>19.571429</td>\n      <td>7.342857</td>\n      <td>3565.213143</td>\n    </tr>\n    <tr>\n      <th>3</th>\n      <td>1.0</td>\n      <td>2.400000</td>\n      <td>6.933333</td>\n      <td>2.550000</td>\n      <td>42.633333</td>\n      <td>23.600000</td>\n      <td>3980.054000</td>\n    </tr>\n    <tr>\n      <th>4</th>\n      <td>2.0</td>\n      <td>0.200000</td>\n      <td>2.150000</td>\n      <td>11.125000</td>\n      <td>10.025000</td>\n      <td>2.600000</td>\n      <td>3613.651750</td>\n    </tr>\n    <tr>\n      <th>...</th>\n      <td>...</td>\n      <td>...</td>\n      <td>...</td>\n      <td>...</td>\n      <td>...</td>\n      <td>...</td>\n      <td>...</td>\n    </tr>\n    <tr>\n      <th>147</th>\n      <td>2.0</td>\n      <td>NaN</td>\n      <td>4.333333</td>\n      <td>5.409524</td>\n      <td>16.957143</td>\n      <td>4.242857</td>\n      <td>2787.800095</td>\n    </tr>\n    <tr>\n      <th>148</th>\n      <td>1.0</td>\n      <td>2.331250</td>\n      <td>8.661905</td>\n      <td>3.317647</td>\n      <td>34.922727</td>\n      <td>22.918182</td>\n      <td>7507.220273</td>\n    </tr>\n    <tr>\n      <th>149</th>\n      <td>0.0</td>\n      <td>5.300000</td>\n      <td>15.242857</td>\n      <td>4.842857</td>\n      <td>51.900000</td>\n      <td>37.785714</td>\n      <td>3269.476000</td>\n    </tr>\n    <tr>\n      <th>150</th>\n      <td>1.0</td>\n      <td>2.042857</td>\n      <td>5.542857</td>\n      <td>7.228571</td>\n      <td>48.137500</td>\n      <td>17.885714</td>\n      <td>2083.494500</td>\n    </tr>\n    <tr>\n      <th>151</th>\n      <td>1.0</td>\n      <td>1.388889</td>\n      <td>4.166667</td>\n      <td>5.788889</td>\n      <td>30.455556</td>\n      <td>10.710000</td>\n      <td>1912.450400</td>\n    </tr>\n  </tbody>\n</table>\n<p>152 rows × 7 columns</p>\n</div>"
     },
     "metadata": {},
     "execution_count": 19
    }
   ],
   "source": [
    "datae[numerical]"
   ]
  }
 ]
}